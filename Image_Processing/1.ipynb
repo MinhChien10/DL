{
 "cells": [
  {
   "cell_type": "code",
   "execution_count": 3,
   "metadata": {},
   "outputs": [
    {
     "data": {
      "text/plain": [
       "-1"
      ]
     },
     "execution_count": 3,
     "metadata": {},
     "output_type": "execute_result"
    }
   ],
   "source": [
    "import cv2\n",
    "import numpy as np\n",
    "\n",
    "# Load ảnh\n",
    "img = cv2.imread('C:/Users/tranc/Desktop/ML_DM/DL/Image_Processing/Cambridge.png')\n",
    "\n",
    "# Resize ảnh\n",
    "resized_img = cv2.resize(img, (600, 450))\n",
    "\n",
    "# Chuyển sang ảnh màu\n",
    "color_img = cv2.cvtColor(resized_img, cv2.IMREAD_COLOR)\n",
    "\n",
    "# Chuyển sang ảnh xám\n",
    "gray_img = cv2.cvtColor(resized_img, cv2.IMREAD_GRAYSCALE)\n",
    "\n",
    "# Chuyển sang ảnh xám\n",
    "color_to_gray_img = cv2.cvtColor(resized_img, cv2.COLOR_BGR2GRAY)\n",
    "\n",
    "# Rotate ảnh\n",
    "rotated_img = cv2.rotate(img, cv2.ROTATE_90_CLOCKWISE)\n",
    "\n",
    "# Ứng dụng kernel identity\n",
    "identity_kernel = np.array([[0, 0, 0], [0, 1, 0], [0, 0, 0]])\n",
    "identity_img = cv2.filter2D(resized_img, -1, identity_kernel)\n",
    "\n",
    "# Ứng dụng kernel edge detection\n",
    "edge_kernel = np.array([[0, 1, 0], [1, -4, 1], [0, 1, 0]])\n",
    "edge_img = cv2.filter2D(resized_img, -1, edge_kernel)\n",
    "\n",
    "# Ứng dụng kernel sharpen\n",
    "sharpen_kernel = np.array([[0, -1, 0], [-1, 5, -1], [0, -1, 0]])\n",
    "sharpen_img = cv2.filter2D(resized_img, -1, sharpen_kernel)\n",
    "\n",
    "# Ứng dụng kernel blue\n",
    "blue_kernel = np.array([[1/9, 1/9, 1/9], [1/9, 1/9, 1/9], [1/9, 1/9, 1/9]])\n",
    "blue_img = cv2.filter2D(resized_img, -1, blue_kernel)\n",
    "\n",
    "# Hiển thị ảnh\n",
    "cv2.imshow('Image', blue_img)\n",
    "cv2.waitKey(0)"
   ]
  },
  {
   "cell_type": "code",
   "execution_count": null,
   "metadata": {},
   "outputs": [],
   "source": []
  }
 ],
 "metadata": {
  "kernelspec": {
   "display_name": "Python 3 (ipykernel)",
   "language": "python",
   "name": "python3"
  },
  "language_info": {
   "codemirror_mode": {
    "name": "ipython",
    "version": 3
   },
   "file_extension": ".py",
   "mimetype": "text/x-python",
   "name": "python",
   "nbconvert_exporter": "python",
   "pygments_lexer": "ipython3",
   "version": "3.11.5"
  }
 },
 "nbformat": 4,
 "nbformat_minor": 2
}
